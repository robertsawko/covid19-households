{
 "cells": [
  {
   "cell_type": "markdown",
   "metadata": {},
   "source": [
    "# Scratch\n",
    "\n",
    "Notebook for playing with code\n"
   ]
  },
  {
   "cell_type": "code",
   "execution_count": 13,
   "metadata": {},
   "outputs": [],
   "source": [
    "from numpy import array, linspace\n",
    "import sys\n",
    "sys.path.append('/Users/thomashousedr/work/covid-households/')\n",
    "from copy import deepcopy"
   ]
  },
  {
   "cell_type": "code",
   "execution_count": 9,
   "metadata": {},
   "outputs": [
    {
     "data": {
      "text/plain": [
       "array([0.65, 0.7 , 0.75, 0.8 ])"
      ]
     },
     "execution_count": 9,
     "metadata": {},
     "output_type": "execute_result"
    }
   ],
   "source": [
    "linspace(0.65,0.8,4)"
   ]
  },
  {
   "cell_type": "code",
   "execution_count": 11,
   "metadata": {},
   "outputs": [],
   "source": [
    "from models.configs import CONFIG_WITH_DOUBLING_TIME as SPEC"
   ]
  },
  {
   "cell_type": "code",
   "execution_count": 14,
   "metadata": {},
   "outputs": [
    {
     "data": {
      "text/plain": [
       "{'latent_period': 5.0,\n",
       " 'prodrome_period': 3.0,\n",
       " 'infectious_period': 4.0,\n",
       " 'doubling_time': 3.0,\n",
       " 'RGp': 0.5,\n",
       " 'RGi': 1.0,\n",
       " 'eta': 0.8,\n",
       " 'Npop': 67000000.0,\n",
       " 'SAPp': 0.4,\n",
       " 'SAPi': 0.8,\n",
       " 'final_time': 180.0,\n",
       " 'h': 0.04,\n",
       " 'import_rate': 0.0001,\n",
       " 'tint': 0.01,\n",
       " 'pages': [30.28, 34.07, 15.51, 13.32, 4.88, 1.41, 0.33, 0.2],\n",
       " 'npi': {'type': 'individual',\n",
       "  'start': 40,\n",
       "  'end': 180,\n",
       "  'compliance': 0.0,\n",
       "  'global_reduction': 0.0}}"
      ]
     },
     "execution_count": 14,
     "metadata": {},
     "output_type": "execute_result"
    }
   ],
   "source": [
    "spec = deepcopy(SPEC)\n",
    "spec"
   ]
  },
  {
   "cell_type": "code",
   "execution_count": 15,
   "metadata": {},
   "outputs": [],
   "source": [
    "lockdown_durations = array([21.0, 90.0, 180.0])"
   ]
  },
  {
   "cell_type": "code",
   "execution_count": 17,
   "metadata": {},
   "outputs": [
    {
     "data": {
      "text/plain": [
       "{'latent_period': 5.0,\n",
       " 'prodrome_period': 3.0,\n",
       " 'infectious_period': 4.0,\n",
       " 'doubling_time': 3.0,\n",
       " 'RGp': 0.5,\n",
       " 'RGi': 1.0,\n",
       " 'eta': 0.8,\n",
       " 'Npop': 67000000.0,\n",
       " 'SAPp': 0.4,\n",
       " 'SAPi': 0.8,\n",
       " 'final_time': 180.0,\n",
       " 'h': 0.04,\n",
       " 'import_rate': 0.0001,\n",
       " 'tint': 0.01,\n",
       " 'pages': [30.28, 34.07, 15.51, 13.32, 4.88, 1.41, 0.33, 0.2],\n",
       " 'npi': {'type': 'individual',\n",
       "  'start': 40,\n",
       "  'end': 130.0,\n",
       "  'compliance': 0.0,\n",
       "  'global_reduction': 0.0}}"
      ]
     },
     "execution_count": 17,
     "metadata": {},
     "output_type": "execute_result"
    }
   ],
   "source": [
    "spec['npi']['end'] = (spec['npi']['start'] + lockdown_durations[1])\n",
    "spec"
   ]
  },
  {
   "cell_type": "code",
   "execution_count": 19,
   "metadata": {},
   "outputs": [],
   "source": [
    "SAPi_range = array([0.4, 0.6, 0.8, 0.9])"
   ]
  },
  {
   "cell_type": "code",
   "execution_count": 21,
   "metadata": {},
   "outputs": [
    {
     "data": {
      "text/plain": [
       "0.5"
      ]
     },
     "execution_count": 21,
     "metadata": {},
     "output_type": "execute_result"
    }
   ],
   "source": [
    "p2i = spec['SAPp']/spec['SAPi']\n",
    "p2i"
   ]
  },
  {
   "cell_type": "code",
   "execution_count": 22,
   "metadata": {},
   "outputs": [
    {
     "data": {
      "text/plain": [
       "{'latent_period': 5.0,\n",
       " 'prodrome_period': 3.0,\n",
       " 'infectious_period': 4.0,\n",
       " 'doubling_time': 3.0,\n",
       " 'RGp': 0.5,\n",
       " 'RGi': 1.0,\n",
       " 'eta': 0.8,\n",
       " 'Npop': 67000000.0,\n",
       " 'SAPp': 0.3,\n",
       " 'SAPi': 0.6,\n",
       " 'final_time': 180.0,\n",
       " 'h': 0.04,\n",
       " 'import_rate': 0.0001,\n",
       " 'tint': 0.01,\n",
       " 'pages': [30.28, 34.07, 15.51, 13.32, 4.88, 1.41, 0.33, 0.2],\n",
       " 'npi': {'type': 'individual',\n",
       "  'start': 40,\n",
       "  'end': 130.0,\n",
       "  'compliance': 0.0,\n",
       "  'global_reduction': 0.0}}"
      ]
     },
     "execution_count": 22,
     "metadata": {},
     "output_type": "execute_result"
    }
   ],
   "source": [
    "spec['SAPi'] = SAPi_range[1]\n",
    "spec['SAPp'] = p2i*SAPi_range[1]\n",
    "spec"
   ]
  },
  {
   "cell_type": "code",
   "execution_count": null,
   "metadata": {},
   "outputs": [],
   "source": []
  }
 ],
 "metadata": {
  "kernelspec": {
   "display_name": "Python 3",
   "language": "python",
   "name": "python3"
  },
  "language_info": {
   "codemirror_mode": {
    "name": "ipython",
    "version": 3
   },
   "file_extension": ".py",
   "mimetype": "text/x-python",
   "name": "python",
   "nbconvert_exporter": "python",
   "pygments_lexer": "ipython3",
   "version": "3.7.3"
  }
 },
 "nbformat": 4,
 "nbformat_minor": 2
}
