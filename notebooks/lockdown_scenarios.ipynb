{
 "cells": [
  {
   "cell_type": "code",
   "execution_count": 1,
   "metadata": {},
   "outputs": [],
   "source": [
    "%matplotlib inline\n",
    "import numpy as np\n",
    "import scipy.stats as st\n",
    "from scipy import sparse\n",
    "import matplotlib.pyplot as plt\n",
    "import matplotlib.gridspec as gridspec"
   ]
  },
  {
   "cell_type": "code",
   "execution_count": 2,
   "metadata": {},
   "outputs": [
    {
     "data": {
      "text/plain": [
       "array([0.29459119, 0.34533693, 0.15407008, 0.13947889, 0.04506739,\n",
       "       0.02145553])"
      ]
     },
     "execution_count": 2,
     "metadata": {},
     "output_type": "execute_result"
    }
   ],
   "source": [
    "# From the 2019 ONS Data at: https://www.ons.gov.uk/peoplepopulationandcommunity/birthsdeathsandmarriages/families/datasets/familiesandhouseholdsfamiliesandhouseholds\n",
    "cts = np.array([8197.0, 9609.0, 4287.0, 3881.0, 1254.0, 597.0])\n",
    "cts/np.sum(cts)"
   ]
  },
  {
   "cell_type": "code",
   "execution_count": 3,
   "metadata": {},
   "outputs": [],
   "source": [
    "# From 2001 UK census the percentages of households from size 1 to 8 are:\n",
    "pages = np.array([30.28, 34.07, 15.51, 13.32, 4.88, 1.41, 0.33, 0.20])"
   ]
  },
  {
   "cell_type": "code",
   "execution_count": 4,
   "metadata": {},
   "outputs": [],
   "source": [
    "weights = pages / np.sum(pages)\n",
    "nmax = len(weights)\n",
    "nbar = weights @ np.arange(1,nmax+1)"
   ]
  },
  {
   "cell_type": "code",
   "execution_count": 5,
   "metadata": {},
   "outputs": [
    {
     "data": {
      "text/plain": [
       "array([0.3028, 0.3407, 0.1551, 0.1332, 0.0488, 0.0141, 0.0033, 0.002 ])"
      ]
     },
     "execution_count": 5,
     "metadata": {},
     "output_type": "execute_result"
    }
   ],
   "source": [
    "weights # These are not different from 2019 for the ones that are available"
   ]
  },
  {
   "cell_type": "code",
   "execution_count": 6,
   "metadata": {},
   "outputs": [],
   "source": [
    "# INTERPRETABLE PARAMETERS:\n",
    "latent_period = 5.0 # Days in E class before becoming infectious\n",
    "prodrome_period = 3.0 # Days infectious but not symptomatic\n",
    "infectious_period = 4.0 # Days infectious and symptomatic\n",
    "doubling_time = 3.0 # Doubling time in the absence of interventions\n",
    "RGp = 0.5 # Contribution to R0 outside the household from pre-symptomatic\n",
    "RGi = 1.0 # Contribution to R0 outside the household during symptomatic\n",
    "eta = 0.8 # Parameter of the Cauchemez model: HH transmission ~ n^(-eta)\n",
    "import_rate = 0.0001 # International importation rate\n",
    "Npop = 6.7e7 # Total population (This is UK at present)\n",
    "SAPp = 0.4 # Secondary attack probability for a two-person household with one susceptible and one prodrome\n",
    "SAPi = 0.8 # Secondary attack probability for a two-person household with one susceptible and one infective\n",
    "dist_start = 40 # Start of social distancing\n",
    "dist_end = 61 # End of social distancing"
   ]
  },
  {
   "cell_type": "code",
   "execution_count": 7,
   "metadata": {},
   "outputs": [],
   "source": [
    "s2i = np.zeros((nmax+1,nmax+1,nmax+1,nmax+1,nmax+1),dtype=np.int32)"
   ]
  },
  {
   "cell_type": "code",
   "execution_count": 8,
   "metadata": {},
   "outputs": [],
   "source": [
    "k=0\n",
    "for n in range(1,nmax+1):\n",
    "    for s in range(0,n+1):\n",
    "        for e in range(0,n+1-s):\n",
    "            for p in range(0,n+1-s-e):\n",
    "                for i in range(0,n+1-s-e-p):\n",
    "                    s2i[n-1,s,e,p,i] = k\n",
    "                    k += 1\n",
    "imax = k"
   ]
  },
  {
   "cell_type": "code",
   "execution_count": 9,
   "metadata": {},
   "outputs": [],
   "source": [
    "# Initialise the indices for sparse array generation\n",
    "\n",
    "Ise_p = np.array([],dtype=np.int32)\n",
    "Jse_p = np.array([],dtype=np.int32)\n",
    "Vse_p = np.array([])\n",
    "\n",
    "Ise_i = np.array([],dtype=np.int32)\n",
    "Jse_i = np.array([],dtype=np.int32)\n",
    "Vse_i = np.array([])\n",
    "\n",
    "Iep = np.array([],dtype=np.int32)\n",
    "Jep = np.array([],dtype=np.int32)\n",
    "Vep = np.array([])\n",
    "\n",
    "Ipi = np.array([],dtype=np.int32)\n",
    "Jpi = np.array([],dtype=np.int32)\n",
    "Vpi = np.array([])\n",
    "\n",
    "Iir = np.array([],dtype=np.int32)\n",
    "Jir = np.array([],dtype=np.int32)\n",
    "Vir = np.array([])\n",
    "\n",
    "ii = np.zeros(imax)\n",
    "pp = np.zeros(imax)\n",
    "ptilde = np.zeros(imax)\n",
    "ww = np.zeros(imax)\n",
    "cc = []"
   ]
  },
  {
   "cell_type": "code",
   "execution_count": 10,
   "metadata": {},
   "outputs": [],
   "source": [
    "for n in range(1,nmax+1):\n",
    "    for s in range(0,n+1):\n",
    "        for e in range(0,n+1-s):\n",
    "            for p in range(0,n+1-s-e):\n",
    "                for i in range(0,n+1-s-e-p):\n",
    "                    I = s2i[n-1,s,e,p,i]\n",
    "                    \n",
    "                    ii[I] = float(i)\n",
    "                    pp[I] = float(p)\n",
    "                    \n",
    "                    if ((e==1) and (s==(n-1))):\n",
    "                        ww[I] = n*weights[n-1]\n",
    "                    \n",
    "                    if (i==0):\n",
    "                        ptilde[I] = float(p)\n",
    "                    \n",
    "                    if not ((e==0) and (p==0) and (i==0)):\n",
    "                        cc.append(I)\n",
    "\n",
    "                    if ((s>0) and (p>0)):\n",
    "                        Ise_p = np.append(Ise_p,I)\n",
    "                        Jse_p = np.append(Jse_p,s2i[n-1,s-1,e+1,p,i])\n",
    "                        val = float(s*p)/(float(n)**(-eta))\n",
    "                        Vse_p = np.append(Vse_p,val)\n",
    "                        Ise_p = np.append(Ise_p,I)\n",
    "                        Jse_p = np.append(Jse_p,I)\n",
    "                        Vse_p = np.append(Vse_p,-val)      \n",
    "                    if ((s>0) and (i>0)):\n",
    "                        Ise_i = np.append(Ise_i,I)\n",
    "                        Jse_i = np.append(Jse_i,s2i[n-1,s-1,e+1,p,i])\n",
    "                        val = float(s*i)/(float(n)**(-eta))\n",
    "                        Vse_i = np.append(Vse_i,val)\n",
    "                        Ise_i = np.append(Ise_i,I)\n",
    "                        Jse_i = np.append(Jse_i,I)\n",
    "                        Vse_i = np.append(Vse_i,-val)                   \n",
    "                    if (e>0):\n",
    "                        Iep = np.append(Iep,I)\n",
    "                        Jep = np.append(Jep,s2i[n-1,s,e-1,p+1,i])\n",
    "                        val = float(e)\n",
    "                        Vep = np.append(Vep,val)\n",
    "                        Iep = np.append(Iep,I)\n",
    "                        Jep = np.append(Jep,I)\n",
    "                        Vep = np.append(Vep,-val)\n",
    "                    if (p>0):\n",
    "                        Ipi = np.append(Ipi,I)\n",
    "                        Jpi = np.append(Jpi,s2i[n-1,s,e,p-1,i+1])\n",
    "                        val = float(p)\n",
    "                        Vpi = np.append(Vpi,val)\n",
    "                        Ipi = np.append(Ipi,I)\n",
    "                        Jpi = np.append(Jpi,I)\n",
    "                        Vpi = np.append(Vpi,-val)\n",
    "                    if (i>0):\n",
    "                        Iir = np.append(Iir,I)\n",
    "                        Jir = np.append(Jir,s2i[n-1,s,e,p,i-1])\n",
    "                        val = float(i)\n",
    "                        Vir = np.append(Vir,val)\n",
    "                        Iir = np.append(Iir,I)\n",
    "                        Jir = np.append(Jir,I)\n",
    "                        Vir = np.append(Vir,-val)"
   ]
  },
  {
   "cell_type": "code",
   "execution_count": 11,
   "metadata": {},
   "outputs": [],
   "source": [
    "Mse_p = sparse.csr_matrix((Vse_p, (Ise_p, Jse_p)), (imax, imax))\n",
    "Mse_i = sparse.csr_matrix((Vse_i, (Ise_i, Jse_i)), (imax, imax))\n",
    "Mep = sparse.csr_matrix((Vep, (Iep, Jep)), (imax, imax))\n",
    "Mpi = sparse.csr_matrix((Vpi, (Ipi, Jpi)), (imax, imax))\n",
    "Mir = sparse.csr_matrix((Vir, (Iir, Jir)), (imax, imax))"
   ]
  },
  {
   "cell_type": "code",
   "execution_count": 12,
   "metadata": {},
   "outputs": [],
   "source": [
    "rep = 1.0 / latent_period\n",
    "rpi = 1.0 / prodrome_period\n",
    "rir = 1.0 / infectious_period\n",
    "tau_p = (SAPp*rpi*(2.0**eta))/(1.0-SAPp)\n",
    "tau_i = (SAPi*rir*(2.0**eta))/(1.0-SAPi)"
   ]
  },
  {
   "cell_type": "code",
   "execution_count": 13,
   "metadata": {},
   "outputs": [],
   "source": [
    "# Solution of the Lotka–Euler equation to fix global transmission from doubling time CODE STARTS"
   ]
  },
  {
   "cell_type": "code",
   "execution_count": 14,
   "metadata": {},
   "outputs": [
    {
     "data": {
      "text/plain": [
       "0.23104906018664842"
      ]
     },
     "execution_count": 14,
     "metadata": {},
     "output_type": "execute_result"
    }
   ],
   "source": [
    "Imat = sparse.eye(imax,imax)\n",
    "rr = np.log(2.0)/doubling_time\n",
    "rr"
   ]
  },
  {
   "cell_type": "code",
   "execution_count": 15,
   "metadata": {},
   "outputs": [],
   "source": [
    "MM = rep*Mep + rpi*Mpi + rir*Mir + tau_p*Mse_p + tau_i*Mse_i - rr*Imat"
   ]
  },
  {
   "cell_type": "code",
   "execution_count": 16,
   "metadata": {},
   "outputs": [],
   "source": [
    "beta_p_base = RGp / prodrome_period\n",
    "beta_i_base = RGi / infectious_period"
   ]
  },
  {
   "cell_type": "code",
   "execution_count": 17,
   "metadata": {},
   "outputs": [
    {
     "data": {
      "text/plain": [
       "(1242, 1242)"
      ]
     },
     "execution_count": 17,
     "metadata": {},
     "output_type": "execute_result"
    }
   ],
   "source": [
    "Qc = -(MM[:,cc][cc,:])\n",
    "np.shape(Qc)"
   ]
  },
  {
   "cell_type": "code",
   "execution_count": 18,
   "metadata": {},
   "outputs": [],
   "source": [
    "z = sparse.linalg.spsolve(Qc, beta_p_base*pp[cc] + beta_i_base*ii[cc])"
   ]
  },
  {
   "cell_type": "code",
   "execution_count": 19,
   "metadata": {},
   "outputs": [
    {
     "data": {
      "text/plain": [
       "0.8378962413569851"
      ]
     },
     "execution_count": 19,
     "metadata": {},
     "output_type": "execute_result"
    }
   ],
   "source": [
    "beta_scale = 1.0/(z@ww[cc])\n",
    "beta_scale"
   ]
  },
  {
   "cell_type": "code",
   "execution_count": 20,
   "metadata": {},
   "outputs": [],
   "source": [
    "beta_p = beta_p_base*beta_scale"
   ]
  },
  {
   "cell_type": "code",
   "execution_count": 21,
   "metadata": {},
   "outputs": [],
   "source": [
    "beta_i = beta_i_base*beta_scale"
   ]
  },
  {
   "cell_type": "code",
   "execution_count": 22,
   "metadata": {},
   "outputs": [],
   "source": [
    "# THE CODE BELOW IS BASICALLY AS BEFORE\n",
    "h = 0.04"
   ]
  },
  {
   "cell_type": "code",
   "execution_count": 23,
   "metadata": {},
   "outputs": [],
   "source": [
    "trange = np.arange(0,180,h)\n",
    "tend = len(trange)"
   ]
  },
  {
   "cell_type": "code",
   "execution_count": 24,
   "metadata": {},
   "outputs": [
    {
     "name": "stdout",
     "output_type": "stream",
     "text": [
      "Done global reduction range 1 of 2 and compliance range 1 of 2\n",
      "Done global reduction range 1 of 2 and compliance range 2 of 2\n",
      "Done global reduction range 2 of 2 and compliance range 1 of 2\n",
      "Done global reduction range 2 of 2 and compliance range 2 of 2\n"
     ]
    }
   ],
   "source": [
    "comply_range = np.array([0.0, 0.65])\n",
    "globred_range = np.array([0.0, 0.65])\n",
    "\n",
    "lc = len(comply_range)\n",
    "lg = len(globred_range)\n",
    "\n",
    "prev = np.zeros((lg,lc,tend))\n",
    "tint = 0.01 # Time at which we neglect imports\n",
    "pdi = np.zeros((lg,lc,tend)) # Person-days in isolation\n",
    "prav = np.zeros((nmax,lg,lc)) # Probability of avoiding by household size\n",
    "\n",
    "qsave1 = np.zeros(imax)\n",
    "qsave2 = np.zeros(imax)\n",
    "\n",
    "for g in range(0,lg):\n",
    "    for c in range(0,lc):\n",
    "        irm = 1.0\n",
    "        q0 = np.zeros(imax)\n",
    "        for n in range(1,nmax+1):\n",
    "            q0[s2i[n-1,n,0,0,0]] = weights[n-1]\n",
    "        for t in range(0,tend):\n",
    "            prev[g,c,t] = (ii@q0)\n",
    "            if (t>0):\n",
    "                pdi[g,c,t] = pdi[g,c,t-1] + (comply_range[c]*prev[g,c,t])*h\n",
    "                \n",
    "            rse = irm*import_rate + (1.0-comply_range[c])*(beta_p*(pp @ q0) + beta_i*(prev[g,c,t])) + comply_range[c]*beta_p*(ptilde @ q0)\n",
    "        \n",
    "            if ((trange[t] >= dist_start) and (trange[t] <= dist_end)):\n",
    "                rse = rse*(1.0 - globred_range[g])\n",
    "            \n",
    "            Ise = np.array([],dtype=np.int32)\n",
    "            Jse = np.array([],dtype=np.int32)\n",
    "            Vse = np.array([])\n",
    "            for n in range(1,nmax+1):\n",
    "                for s in range(0,n+1):\n",
    "                    for e in range(0,n+1-s):\n",
    "                        for p in range(0,n+1-s-e):\n",
    "                            for i in range(0,n+1-s-e-p):\n",
    "                                I = s2i[n-1,s,e,p,i]\n",
    "                                if (s>0):\n",
    "                                    Ise = np.append(Ise,I)\n",
    "                                    Jse = np.append(Jse,s2i[n-1,s-1,e+1,p,i])\n",
    "                                    if (i==0):\n",
    "                                        val = float(s)\n",
    "                                    else:\n",
    "                                        val = (1.0-comply_range[c])*float(s)\n",
    "                                    Vse = np.append(Vse,val)\n",
    "                                    Ise = np.append(Ise,I)\n",
    "                                    Jse = np.append(Jse,I)\n",
    "                                    Vse = np.append(Vse,-val)  \n",
    "            Mse = sparse.csr_matrix((Vse, (Ise, Jse)), (imax, imax))\n",
    "            \n",
    "            MM = rse*Mse + rep*Mep + rpi*Mpi + rir*Mir + tau_p*Mse_p + tau_i*Mse_i\n",
    "            qh = sparse.linalg.spsolve(Imat - h*MM.T, q0)\n",
    "            q0 = qh\n",
    "            if (trange[t] >= tint):\n",
    "                irm = 0.0\n",
    "            if (trange[t] == dist_start):\n",
    "                qsave1 = q0\n",
    "            if (trange[t] == dist_end):\n",
    "                qsave2 = q0\n",
    "\n",
    "        print('Done global reduction range ' + str(g+1) + ' of ' + str(lg) + ' and compliance range ' + str(c+1) + ' of ' + str(lc))"
   ]
  },
  {
   "cell_type": "code",
   "execution_count": 68,
   "metadata": {},
   "outputs": [
    {
     "data": {
      "image/png": "[encoded data removed]",
      "text/plain": [
       "<Figure size 576x360 with 4 Axes>"
      ]
     },
     "metadata": {
      "needs_background": "light"
     },
     "output_type": "display_data"
    }
   ],
   "source": [
    "percred = 100*np.ones((lg,lc))\n",
    "persdays = np.zeros((lg,lc))\n",
    "\n",
    "plt.figure(figsize=(8,2.5*lg))\n",
    "for g in range(0,lg):\n",
    "    plt.subplot(lg,2,2*g+1)\n",
    "    for c in range(lc-1,0,-1):\n",
    "        plt.plot(trange,(Npop/nbar)*prev[g,c,:],label= '{:.0f}% of households isolate'.format(100*comply_range[c]),c=[0.5, 0.5, 0.5+(0.5*comply_range[c])])\n",
    "        percred[g,c] = 100.0*(np.max(prev[g,c,:])/np.max(prev[0,0,:]))\n",
    "    plt.plot(trange,(Npop/nbar)*prev[g,0,:],label='Baseline',c=[0.2, 0.2, 0.8])\n",
    "    yup = 1.05*(Npop/nbar)*np.max(prev[0,0,:])\n",
    "    plt.plot([dist_start, dist_start],[0,yup],ls='--',c='darkorange')\n",
    "    plt.plot([dist_end, dist_end],[0,yup],ls='--',c='forestgreen')\n",
    "    plt.xlim([30, 80])\n",
    "    plt.ylim([0,yup])\n",
    "    plt.xlabel('Time (days)')\n",
    "    plt.ylabel('Number of Cases')\n",
    "    plt.title('Global Reduction {:.0f}%'.format(100*globred_range[g]))\n",
    "    plt.subplot(lg,2,2*g+2)\n",
    "    #plt.plot(trange,(50.0)*np.exp(rr*trange),c='r')\n",
    "    for c in range(lc-1,0,-1):\n",
    "        plt.plot(trange,(Npop/nbar)*prev[g,c,:],label= '{:.0f}% of households isolate'.format(100*comply_range[c]),c=[0.5, 0.5, 0.5+(0.5*comply_range[c])])\n",
    "        percred[g,c] = 100.0*(np.max(prev[g,c,:])/np.max(prev[0,0,:]))\n",
    "    plt.plot(trange,(Npop/nbar)*prev[g,0,:],label='Baseline',c=[0.2, 0.2, 0.8])\n",
    "    yup = 1.05*(Npop/nbar)*np.max(prev[0,0,:])\n",
    "    plt.plot([dist_start, dist_start],[0,yup],ls='--',c='darkorange')\n",
    "    plt.plot([dist_end, dist_end],[0,yup],ls='--',c='forestgreen')\n",
    "    plt.xlim([30, 80])\n",
    "    plt.ylim([1e4,yup])\n",
    "    plt.yscale('log')\n",
    "    plt.xlabel('Time (days)')\n",
    "    plt.ylabel('Number of Cases')\n",
    "    plt.title('Global Reduction {:.0f}%'.format(100*globred_range[g]))\n",
    "    if g==0:\n",
    "        plt.legend()\n",
    "plt.tight_layout()\n",
    "plt.savefig(\"./group_hh_figure.pdf\",format='pdf')"
   ]
  },
  {
   "cell_type": "code",
   "execution_count": 54,
   "metadata": {},
   "outputs": [],
   "source": [
    "y1 = [0, 0, 0, 1, 1, 2, 2, 3]\n",
    "x1 = [0, 1, 2, 0, 2, 0, 2, 0]\n",
    "x2 = [1, 2, 4, 2, 4, 2, 4, 4]"
   ]
  },
  {
   "cell_type": "code",
   "execution_count": 62,
   "metadata": {},
   "outputs": [
    {
     "data": {
      "image/png": "[encoded data removed]",
      "text/plain": [
       "<Figure size 576x576 with 8 Axes>"
      ]
     },
     "metadata": {
      "needs_background": "light"
     },
     "output_type": "display_data"
    }
   ],
   "source": [
    "fig1 = plt.figure(constrained_layout=True,figsize=(8,8))\n",
    "gs = fig1.add_gridspec(4, 4)\n",
    "for n in range(1,nmax+1):\n",
    "    ax = fig1.add_subplot(gs[y1[n-1], x1[n-1]:x2[n-1]])\n",
    "    ax.set_title('Size ' + str(n) + ' Histogram')\n",
    "    y = np.zeros(n+1)\n",
    "    z = np.zeros(n+1)\n",
    "    for s in range(0,n+1):\n",
    "        for e in range(0,n+1-s):\n",
    "            for p in range(0,n+1-s-e):\n",
    "                for i in range(0,n+1-s-e-p):\n",
    "                    y[i] += (Npop/nbar)*qsave1[s2i[n-1,s,e,p,i]]\n",
    "                    z[i] += (Npop/nbar)*qsave2[s2i[n-1,s,e,p,i]]\n",
    "    x = np.arange(0,n+1)\n",
    "    ax.bar(x-0.2,y,0.35,label='At lockdown',color='darkorange')\n",
    "    ax.bar(x+0.2,z,0.35,label='After lockdown',color='forestgreen')\n",
    "    plt.ylim([0,1.5*np.max(z[1:])])\n",
    "    plt.xticks(x)\n",
    "    plt.xlabel('Cases')\n",
    "    #plt.ylabel('Count')\n",
    "    if n==nmax:\n",
    "        plt.legend(loc='upper right')\n",
    "        ax.set_title('Size ' + str(n) + '+ Histogram')\n",
    "    else:\n",
    "        ax.set_title('Size ' + str(n) + ' Histogram')\n",
    "        \n",
    "plt.savefig(\"./group_hh_surge.pdf\",format='pdf')"
   ]
  },
  {
   "cell_type": "code",
   "execution_count": null,
   "metadata": {},
   "outputs": [],
   "source": []
  }
 ],
 "metadata": {
  "kernelspec": {
   "display_name": "Python 3",
   "language": "python",
   "name": "python3"
  },
  "language_info": {
   "codemirror_mode": {
    "name": "ipython",
    "version": 3
   },
   "file_extension": ".py",
   "mimetype": "text/x-python",
   "name": "python",
   "nbconvert_exporter": "python",
   "pygments_lexer": "ipython3",
   "version": "3.7.3"
  }
 },
 "nbformat": 4,
 "nbformat_minor": 2
}
